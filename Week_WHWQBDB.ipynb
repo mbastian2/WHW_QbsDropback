{
  "nbformat": 4,
  "nbformat_minor": 0,
  "metadata": {
    "colab": {
      "provenance": [],
      "collapsed_sections": [
        "Ch0D3IbTDfS0"
      ],
      "mount_file_id": "1EQAoirPT8ZjTvoU0AaJs3cS55Ebb3yQR",
      "authorship_tag": "ABX9TyM2A8i+wG2KahIGNR97qDmc",
      "include_colab_link": true
    },
    "kernelspec": {
      "name": "python3",
      "display_name": "Python 3"
    },
    "language_info": {
      "name": "python"
    }
  },
  "cells": [
    {
      "cell_type": "markdown",
      "metadata": {
        "id": "view-in-github",
        "colab_type": "text"
      },
      "source": [
        "<a href=\"https://colab.research.google.com/github/mbastian2/WHW_QbsDropback/blob/main/Week_WHWQBDB.ipynb\" target=\"_parent\"><img src=\"https://colab.research.google.com/assets/colab-badge.svg\" alt=\"Open In Colab\"/></a>"
      ]
    },
    {
      "cell_type": "markdown",
      "source": [
        "#Install/Import/Download - RUN ONCE"
      ],
      "metadata": {
        "id": "Ch0D3IbTDfS0"
      }
    },
    {
      "cell_type": "code",
      "source": [
        "!pip install --upgrade nfl_data_py\n",
        "!pip install -U kaleido\n",
        "import nfl_data_py as nfl\n",
        "import plotly.graph_objects as go\n",
        "import pandas as pd\n",
        "pd.set_option('display.max_columns', None)"
      ],
      "metadata": {
        "colab": {
          "base_uri": "https://localhost:8080/"
        },
        "collapsed": true,
        "id": "w0HDk5YC4JCy",
        "outputId": "2a5b4395-c0bb-4d86-9c9f-b0e23a3e7f00"
      },
      "execution_count": null,
      "outputs": [
        {
          "output_type": "stream",
          "name": "stdout",
          "text": [
            "Collecting nfl_data_py\n",
            "  Downloading nfl_data_py-0.3.3-py3-none-any.whl.metadata (12 kB)\n",
            "Requirement already satisfied: numpy<2.0,>=1.0 in /usr/local/lib/python3.10/dist-packages (from nfl_data_py) (1.26.4)\n",
            "Collecting pandas<2.0,>=1.0 (from nfl_data_py)\n",
            "  Downloading pandas-1.5.3-cp310-cp310-manylinux_2_17_x86_64.manylinux2014_x86_64.whl.metadata (11 kB)\n",
            "Collecting appdirs>1 (from nfl_data_py)\n",
            "  Downloading appdirs-1.4.4-py2.py3-none-any.whl.metadata (9.0 kB)\n",
            "Collecting fastparquet>0.5 (from nfl_data_py)\n",
            "  Downloading fastparquet-2024.11.0-cp310-cp310-manylinux_2_17_x86_64.manylinux2014_x86_64.whl.metadata (4.2 kB)\n",
            "Collecting cramjam>=2.3 (from fastparquet>0.5->nfl_data_py)\n",
            "  Downloading cramjam-2.9.0-cp310-cp310-manylinux_2_17_x86_64.manylinux2014_x86_64.whl.metadata (4.9 kB)\n",
            "Requirement already satisfied: fsspec in /usr/local/lib/python3.10/dist-packages (from fastparquet>0.5->nfl_data_py) (2024.10.0)\n",
            "Requirement already satisfied: packaging in /usr/local/lib/python3.10/dist-packages (from fastparquet>0.5->nfl_data_py) (24.2)\n",
            "Requirement already satisfied: python-dateutil>=2.8.1 in /usr/local/lib/python3.10/dist-packages (from pandas<2.0,>=1.0->nfl_data_py) (2.8.2)\n",
            "Requirement already satisfied: pytz>=2020.1 in /usr/local/lib/python3.10/dist-packages (from pandas<2.0,>=1.0->nfl_data_py) (2024.2)\n",
            "Requirement already satisfied: six>=1.5 in /usr/local/lib/python3.10/dist-packages (from python-dateutil>=2.8.1->pandas<2.0,>=1.0->nfl_data_py) (1.16.0)\n",
            "Downloading nfl_data_py-0.3.3-py3-none-any.whl (13 kB)\n",
            "Downloading appdirs-1.4.4-py2.py3-none-any.whl (9.6 kB)\n",
            "Downloading fastparquet-2024.11.0-cp310-cp310-manylinux_2_17_x86_64.manylinux2014_x86_64.whl (1.7 MB)\n",
            "\u001b[2K   \u001b[90m━━━━━━━━━━━━━━━━━━━━━━━━━━━━━━━━━━━━━━━━\u001b[0m \u001b[32m1.7/1.7 MB\u001b[0m \u001b[31m13.5 MB/s\u001b[0m eta \u001b[36m0:00:00\u001b[0m\n",
            "\u001b[?25hDownloading pandas-1.5.3-cp310-cp310-manylinux_2_17_x86_64.manylinux2014_x86_64.whl (12.1 MB)\n",
            "\u001b[2K   \u001b[90m━━━━━━━━━━━━━━━━━━━━━━━━━━━━━━━━━━━━━━━━\u001b[0m \u001b[32m12.1/12.1 MB\u001b[0m \u001b[31m38.1 MB/s\u001b[0m eta \u001b[36m0:00:00\u001b[0m\n",
            "\u001b[?25hDownloading cramjam-2.9.0-cp310-cp310-manylinux_2_17_x86_64.manylinux2014_x86_64.whl (2.4 MB)\n",
            "\u001b[2K   \u001b[90m━━━━━━━━━━━━━━━━━━━━━━━━━━━━━━━━━━━━━━━━\u001b[0m \u001b[32m2.4/2.4 MB\u001b[0m \u001b[31m39.6 MB/s\u001b[0m eta \u001b[36m0:00:00\u001b[0m\n",
            "\u001b[?25hInstalling collected packages: appdirs, cramjam, pandas, fastparquet, nfl_data_py\n",
            "  Attempting uninstall: pandas\n",
            "    Found existing installation: pandas 2.2.2\n",
            "    Uninstalling pandas-2.2.2:\n",
            "      Successfully uninstalled pandas-2.2.2\n",
            "\u001b[31mERROR: pip's dependency resolver does not currently take into account all the packages that are installed. This behaviour is the source of the following dependency conflicts.\n",
            "cudf-cu12 24.10.1 requires pandas<2.2.3dev0,>=2.0, but you have pandas 1.5.3 which is incompatible.\n",
            "google-colab 1.0.0 requires pandas==2.2.2, but you have pandas 1.5.3 which is incompatible.\n",
            "mizani 0.13.0 requires pandas>=2.2.0, but you have pandas 1.5.3 which is incompatible.\n",
            "plotnine 0.14.1 requires pandas>=2.2.0, but you have pandas 1.5.3 which is incompatible.\n",
            "xarray 2024.10.0 requires pandas>=2.1, but you have pandas 1.5.3 which is incompatible.\u001b[0m\u001b[31m\n",
            "\u001b[0mSuccessfully installed appdirs-1.4.4 cramjam-2.9.0 fastparquet-2024.11.0 nfl_data_py-0.3.3 pandas-1.5.3\n",
            "Collecting kaleido\n",
            "  Downloading kaleido-0.2.1-py2.py3-none-manylinux1_x86_64.whl.metadata (15 kB)\n",
            "Downloading kaleido-0.2.1-py2.py3-none-manylinux1_x86_64.whl (79.9 MB)\n",
            "\u001b[2K   \u001b[90m━━━━━━━━━━━━━━━━━━━━━━━━━━━━━━━━━━━━━━━━\u001b[0m \u001b[32m79.9/79.9 MB\u001b[0m \u001b[31m9.0 MB/s\u001b[0m eta \u001b[36m0:00:00\u001b[0m\n",
            "\u001b[?25hInstalling collected packages: kaleido\n",
            "Successfully installed kaleido-0.2.1\n"
          ]
        }
      ]
    },
    {
      "cell_type": "markdown",
      "source": [
        "#Choose Week - Change for desired week"
      ],
      "metadata": {
        "id": "FpAFH_SYG61f"
      }
    },
    {
      "cell_type": "code",
      "source": [
        "selected_week = 11 #Replace Week"
      ],
      "metadata": {
        "id": "oEdoFvBRG8kO"
      },
      "execution_count": null,
      "outputs": []
    },
    {
      "cell_type": "markdown",
      "source": [
        "#Merge - Rerun for each week"
      ],
      "metadata": {
        "id": "0RghRj4U0ewA"
      }
    },
    {
      "cell_type": "code",
      "source": [
        "desc = nfl.import_team_desc()\n",
        "ids = nfl.import_ids()\n",
        "pbp = nfl.import_pbp_data([2024], downcast=True)\n",
        "pbp = pbp[pbp['week'] == selected_week]\n",
        "ftn = nfl.import_ftn_data([2024], downcast=True)\n",
        "ftn = ftn[ftn['week'] == selected_week]\n",
        "season_roster = nfl.import_seasonal_rosters([2024])\n",
        "pbp = pbp[pbp['qb_dropback'] == 1.0]\n",
        "pbp = pbp[pbp['two_point_attempt'] == 0]\n",
        "pbp = pd.merge(pbp, season_roster[['player_id', 'player_name']], left_on='passer_id', right_on='player_id')\n",
        "pbp = pd.merge(pbp, desc[['team_abbr', 'team_color', 'team_color2']], left_on='posteam', right_on='team_abbr')\n",
        "pbp = pd.merge(pbp, ftn[['nflverse_game_id', 'nflverse_play_id', 'is_drop', 'is_qb_fault_sack', 'is_throw_away', 'is_interception_worthy', 'is_catchable_ball']],\n",
        "               left_on=['play_id', 'game_id'], right_on=['nflverse_play_id', 'nflverse_game_id'], how='inner')\n",
        "\n",
        "all_qbs = pbp[pbp['qb_dropback'] == 1.0].groupby('player_name').filter(lambda x: len(x) > 10)\n",
        "\n",
        "qb_rankings = pd.DataFrame()\n",
        "for qb_name in all_qbs['player_name'].unique():\n",
        "    qb = all_qbs[all_qbs['player_name'] == qb_name]\n",
        "    df = pd.DataFrame({'Passer': [qb_name]})\n",
        "    df['Passer'] = qb_name\n",
        "    df.loc[0, 'Dropbacks'] = (qb['qb_dropback'] == 1.0).sum()\n",
        "    df.loc[0, 'Sacks'] = (qb['sack'] == 1.0).sum()\n",
        "    df.loc[0, 'Touchdowns'] = ((qb['touchdown'] == 1.0) & (qb['fixed_drive_result'] == 'Touchdown')).sum()\n",
        "    df.loc[0, 'Scrambles'] = (qb['qb_scramble'] == 1.0).sum()\n",
        "    df.loc[0, 'Interceptions'] = (qb['interception'] == 1.0).sum()\n",
        "    df.loc[0, 'Complete Pass'] = (qb['complete_pass'] == 1.0).sum()\n",
        "    df.loc[0, 'Incomplete Pass'] = (qb['incomplete_pass'] == 1.0).sum()\n",
        "    df.loc[0, 'Negative/No Gain'] = ((qb['complete_pass'] == 1.0) & (qb['yards_gained'] <= 0)).sum()\n",
        "    df.loc[0, 'Short Gain'] = ((qb['complete_pass'] == 1.0) & (qb['yards_gained'] > 0) & (qb['yards_gained'] < 10)).sum()\n",
        "    df.loc[0, 'Medium Gain'] = ((qb['complete_pass'] == 1.0) & (qb['yards_gained'] >= 10) & (qb['yards_gained'] < 20)).sum()\n",
        "    df.loc[0, 'Long Gain'] = ((qb['complete_pass'] == 1.0) & (qb['yards_gained'] >= 20)).sum()\n",
        "    df.loc[0, 'Throwaway'] = ((qb['incomplete_pass'] == 1.0) & (qb['is_throw_away'] == 1.0)).sum()\n",
        "    df.loc[0, 'Drop'] = ((qb['incomplete_pass'] == 1.0) & (qb['is_drop'] == 1.0)).sum()\n",
        "    df.loc[0, 'Uncatchable'] = ((qb['incomplete_pass'] == 1.0) & (qb['is_catchable_ball'] == False)).sum()\n",
        "    df.loc[0, 'PBU'] = ((qb['incomplete_pass'] == 1.0) & (qb['pass_defense_1_player_id'].isna()) & (qb['is_drop'] == 0.0) & (qb['is_catchable_ball'] == True)).sum()\n",
        "    df.loc[0, 'QB Int'] = (((qb['interception'] == 1.0) & qb['is_interception_worthy'] == 1.0)).sum()\n",
        "    df.loc[0, 'Short Scramble'] = ((qb['qb_scramble'] == 1.0) & (qb['yards_gained'] >= 0) & (qb['yards_gained'] <= 5)).sum()\n",
        "    df.loc[0, 'Medium Scramble'] = ((qb['qb_scramble'] == 1.0) & (qb['yards_gained'] > 5) & (qb['yards_gained'] < 15)).sum()\n",
        "    df.loc[0, 'Long Scramble'] = ((qb['qb_scramble'] == 1.0) & (qb['yards_gained'] >= 15)).sum()\n",
        "    df.loc[0, 'QB Sack'] = (((qb['pass_attempt'] == 1.0) & qb['is_qb_fault_sack'] == 1.0)).sum()\n",
        "    df.loc[0, 'Passing Touchdown'] = ((qb['complete_pass'] == 1) & (qb['touchdown'] == 1.0) & (qb['fixed_drive_result'] == 'Touchdown')).sum()\n",
        "    df.loc[0, 'Rushing Touchdown'] = ((qb['qb_scramble'] == 1) & (qb['touchdown'] == 1.0) & (qb['fixed_drive_result'] == 'Touchdown')).sum()\n",
        "    df.loc[0, 'First Down'] = ((qb['first_down'] == 1.0)).sum()\n",
        "    df.loc[0, 'First Down Pass'] = ((qb['first_down'] == 1.0) & (qb['first_down_pass'] == 1.0)).sum()\n",
        "    df.loc[0, 'First Down Rush'] = ((qb['first_down'] == 1.0) & (qb['first_down_rush'] == 1.0)).sum()\n",
        "    df.loc[0, 'First Down Penalty'] = ((qb['first_down'] == 1.0) & (qb['first_down_penalty'] == 1.0)).sum()\n",
        "    df.loc[0, 'posteam'] = qb['posteam'].iloc[0]\n",
        "\n",
        "    df['Sack %'] = (df['Sacks'] / df['Dropbacks']) * 100\n",
        "    df['Td %'] = (df['Touchdowns'] / df['Dropbacks']) * 100\n",
        "    df['Scr %'] = (df['Scrambles'] / df['Dropbacks']) * 100\n",
        "    df['Int %'] = (df['Interceptions'] / df['Dropbacks']) * 100\n",
        "    df['Comp %'] = (df['Complete Pass'] / df['Dropbacks']) * 100\n",
        "    df['Inc %'] = (df['Incomplete Pass'] / df['Dropbacks']) * 100\n",
        "    df['NegGain %'] = (df['Negative/No Gain'] / df['Dropbacks']) * 100\n",
        "    df['Short %'] = (df['Short Gain'] / df['Dropbacks']) * 100\n",
        "    df['Med %'] = (df['Medium Gain'] / df['Dropbacks']) * 100\n",
        "    df['Deep %'] = (df['Long Gain'] / df['Dropbacks']) * 100\n",
        "    df['Thrawy %'] = (df['Throwaway'] / df['Dropbacks']) * 100\n",
        "    df['Drop %'] = (df['Drop'] / df['Dropbacks']) * 100\n",
        "    df['Uncatchable %'] = (df['Uncatchable'] / df['Dropbacks']) * 100\n",
        "    df['PBU %'] = (df['PBU'] / df['Dropbacks']) * 100\n",
        "    df['QB Int %'] = (df['QB Int'] / df['Dropbacks']) * 100\n",
        "    df['Short Scr %'] = (df['Short Scramble'] / df['Dropbacks']) * 100\n",
        "    df['Med Scr %'] = (df['Medium Scramble'] / df['Dropbacks']) * 100\n",
        "    df['Long Scr %'] = (df['Long Scramble'] / df['Dropbacks']) * 100\n",
        "    df['QB Sack %'] = (df['QB Sack'] / df['Dropbacks']) * 100\n",
        "    df['Pass Td %'] = (df['Passing Touchdown'] / df['Dropbacks']) * 100\n",
        "    df['Rush Td %'] = (df['Rushing Touchdown'] / df['Dropbacks']) * 100\n",
        "    df['FD %'] = (df['First Down'] / df['Dropbacks']) * 100\n",
        "    df['FDPa %'] = (df['First Down Pass'] / df['Dropbacks']) * 100\n",
        "    df['FDR %'] = (df['First Down Rush'] / df['Dropbacks']) * 100\n",
        "    df['FDPe %'] = (df['First Down Penalty'] / df['Dropbacks']) * 100\n",
        "\n",
        "    qb_rankings = pd.concat([qb_rankings, df], ignore_index=True)\n",
        "\n",
        "qb_rankings = pd.merge(qb_rankings, desc[['team_abbr', 'team_color', 'team_color2']], left_on='posteam', right_on='team_abbr', how='left')\n",
        "qb_rankings = qb_rankings.loc[qb_rankings.groupby('posteam')['Dropbacks'].idxmax()]\n",
        "\n",
        "qb_rankings['Dropbacks Rank'] = qb_rankings['Dropbacks'].rank(ascending=False)\n",
        "qb_rankings['Sack % Rank'] = qb_rankings['Sack %'].rank(ascending=False)\n",
        "qb_rankings['Td % Rank'] = qb_rankings['Td %'].rank(ascending=False)\n",
        "qb_rankings['Scr % Rank'] = qb_rankings['Scr %'].rank(ascending=False)\n",
        "qb_rankings['Int % Rank'] = qb_rankings['Int %'].rank(ascending=False)\n",
        "qb_rankings['Comp % Rank'] = qb_rankings['Comp %'].rank(ascending=False)\n",
        "qb_rankings['Inc % Rank'] = qb_rankings['Inc %'].rank(ascending=False)\n",
        "qb_rankings['NegGain % Rank'] = qb_rankings['NegGain %'].rank(ascending=False)\n",
        "qb_rankings['Short % Rank'] = qb_rankings['Short %'].rank(ascending=False)\n",
        "qb_rankings['Med % Rank'] = qb_rankings['Med %'].rank(ascending=False)\n",
        "qb_rankings['Deep % Rank'] = qb_rankings['Deep %'].rank(ascending=False)\n",
        "qb_rankings['Thrawy % Rank'] = qb_rankings['Thrawy %'].rank(ascending=False)\n",
        "qb_rankings['Drop % Rank'] = qb_rankings['Drop %'].rank(ascending=False)\n",
        "qb_rankings['Uncatchable % Rank'] = qb_rankings['Uncatchable %'].rank(ascending=False)\n",
        "qb_rankings['PBU % Rank'] = qb_rankings['PBU %'].rank(ascending=False)\n",
        "qb_rankings['QB Int % Rank'] = qb_rankings['QB Int %'].rank(ascending=False)\n",
        "qb_rankings['Short Scr % Rank'] = qb_rankings['Short Scr %'].rank(ascending=False)\n",
        "qb_rankings['Med Scr % Rank'] = qb_rankings['Med Scr %'].rank(ascending=False)\n",
        "qb_rankings['Long Scr % Rank'] = qb_rankings['Long Scr %'].rank(ascending=False)\n",
        "qb_rankings['QB Sack % Rank'] = qb_rankings['QB Sack %'].rank(ascending=False)\n",
        "qb_rankings['Pass Td % Rank'] = qb_rankings['Pass Td %'].rank(ascending=False)\n",
        "qb_rankings['Rush Td % Rank'] = qb_rankings['Rush Td %'].rank(ascending=False)\n",
        "qb_rankings['FD % Rank'] = qb_rankings['FD %'].rank(ascending=False)\n",
        "qb_rankings['FDPa % Rank'] = qb_rankings['FDPa %'].rank(ascending=False)\n",
        "qb_rankings['FDR % Rank'] = qb_rankings['FDR %'].rank(ascending=False)\n",
        "qb_rankings['FDPe % Rank'] = qb_rankings['FDPe %'].rank(ascending=False)\n",
        "\n",
        "df = qb_rankings\n",
        "count = df.shape[0]"
      ],
      "metadata": {
        "id": "ym6llaVi-ahx",
        "colab": {
          "base_uri": "https://localhost:8080/"
        },
        "outputId": "7b910797-e5ab-4e55-fc6c-231eddc3a767"
      },
      "execution_count": null,
      "outputs": [
        {
          "output_type": "stream",
          "name": "stdout",
          "text": [
            "2024 done.\n",
            "Downcasting floats.\n",
            "Downcasting floats.\n"
          ]
        }
      ]
    },
    {
      "cell_type": "markdown",
      "source": [
        "#Choose QB - Rerun with each QB\n"
      ],
      "metadata": {
        "id": "ft1H2pGcu0ov"
      }
    },
    {
      "cell_type": "code",
      "source": [
        "qb = df[df['Passer'] == 'Jayden Daniels']"
      ],
      "metadata": {
        "id": "vY1bq2hcHujJ"
      },
      "execution_count": null,
      "outputs": []
    },
    {
      "cell_type": "markdown",
      "source": [
        "#Create Graph - Rerun with each QB"
      ],
      "metadata": {
        "id": "vWyC3yIy0sdj"
      }
    },
    {
      "cell_type": "code",
      "source": [
        "labels = [\n",
        "    f\"Dropbacks {qb['Dropbacks'].iloc[0]:.0f} ({qb['Dropbacks Rank'].iloc[0]:.0f} / \" + str(count) + \")\",\n",
        "    f\"Complete Pass {qb['Comp %'].iloc[0]:.1f}% ({qb['Comp % Rank'].iloc[0]:.0f} / \" + str(count) + \")\",\n",
        "    f\"Incomplete Pass {qb['Inc %'].iloc[0]:.1f}% ({qb['Inc % Rank'].iloc[0]:.0f} / \" + str(count) + \")\",\n",
        "    f\"Interception {qb['Int %'].iloc[0]:.1f}% ({qb['Int % Rank'].iloc[0]:.0f} / \" + str(count) + \")\",\n",
        "    f\"Scramble {qb['Scr %'].iloc[0]:.1f}% ({qb['Scr % Rank'].iloc[0]:.0f} / \" + str(count) + \")\",\n",
        "    f\"Sack {qb['Sack %'].iloc[0]:.1f}% ({qb['Sack % Rank'].iloc[0]:.0f} / \" + str(count) + \")\",\n",
        "    f\"Touchdown {qb['Td %'].iloc[0]:.1f}% ({qb['Td % Rank'].iloc[0]:.0f} / \" + str(count) + \")\",\n",
        "    f\"First Down {qb['FD %'].iloc[0]:.1f}% ({qb['FD % Rank'].iloc[0]:.0f} / \" + str(count) + \")\",\n",
        "    f\"Negative/No Gain {qb['NegGain %'].iloc[0]:.1f}% ({qb['NegGain % Rank'].iloc[0]:.0f} / \" + str(count) + \")\",\n",
        "    f\"(0-10] Yard Gain {qb['Short %'].iloc[0]:.1f}% ({qb['Short % Rank'].iloc[0]:.0f} / \" + str(count) + \")\",\n",
        "    f\"(10-20) Yard Gain {qb['Med %'].iloc[0]:.1f}% ({qb['Med % Rank'].iloc[0]:.0f} / \" + str(count) + \")\",\n",
        "    f\"20+ Yard Gain {qb['Deep %'].iloc[0]:.1f}% ({qb['Deep % Rank'].iloc[0]:.0f} / \" + str(count) + \")\",\n",
        "    f\"Throwaway {qb['Thrawy %'].iloc[0]:.1f}% ({qb['Thrawy % Rank'].iloc[0]:.0f} / \" + str(count) + \")\",\n",
        "    f\"Drop {qb['Drop %'].iloc[0]:.1f}% ({qb['Drop % Rank'].iloc[0]:.0f} / \" + str(count) + \")\",\n",
        "    f\"Uncatchable {qb['Uncatchable %'].iloc[0]:.1f}% ({qb['Uncatchable % Rank'].iloc[0]:.0f} / \" + str(count) + \")\",\n",
        "    f\"PBU {qb['PBU %'].iloc[0]:.1f}% ({qb['PBU % Rank'].iloc[0]:.0f} / \" + str(count) + \")\",\n",
        "    f\"QB Fault Int {qb['QB Int %'].iloc[0]:.1f}% ({qb['QB Int % Rank'].iloc[0]:.0f} / \" + str(count) + \")\",\n",
        "    f\"[0-5] Yard Gain {qb['Short Scr %'].iloc[0]:.1f}% ({qb['Short Scr % Rank'].iloc[0]:.0f} / \" + str(count) + \")\",\n",
        "    f\"(5-10) Gain {qb['Med Scr %'].iloc[0]:.1f}% ({qb['Med Scr % Rank'].iloc[0]:.0f} / \" + str(count) + \")\",\n",
        "    f\"10+ Yard Gain {qb['Long Scr %'].iloc[0]:.1f}% ({qb['Long Scr % Rank'].iloc[0]:.0f} / \" + str(count) + \")\",\n",
        "    f\"QB Fault Sack {qb['QB Sack %'].iloc[0]:.1f}% ({qb['QB Sack % Rank'].iloc[0]:.0f} / \" + str(count) + \")\",\n",
        "    f\"Passing Touchdown {qb['Pass Td %'].iloc[0]:.1f}% ({qb['Pass Td % Rank'].iloc[0]:.0f} / \" + str(count) + \")\",\n",
        "    f\"Rushing Touchdown {qb['Rush Td %'].iloc[0]:.1f}% ({qb['Rush Td % Rank'].iloc[0]:.0f} / \" + str(count) + \")\",\n",
        "    f\"First Down Pass {qb['FDPa %'].iloc[0]:.1f}% ({qb['FDPa % Rank'].iloc[0]:.0f} / \" + str(count) + \")\",\n",
        "    f\"First Down Scramble {qb['FDR %'].iloc[0]:.1f}% ({qb['FDR % Rank'].iloc[0]:.0f} / \" + str(count) + \")\",\n",
        "    f\"First Down Penalty {qb['FDPe %'].iloc[0]:.1f}% ({qb['FDPe % Rank'].iloc[0]:.0f} / \" + str(count) + \")\"\n",
        "]\n",
        "\n",
        "source = [0,0,0,0,0,0,0, 1,1,1,1, 2,2,2,2, 3, 4,4,4, 5, 6,6, 7,7,7]\n",
        "target = [1,2,3,4,5,6,7, 8,9,10,11 ,12,13,14,15, 16, 17,18,19, 20, 21,22, 23,24,25]\n",
        "values = [qb['Complete Pass'].iloc[0], qb['Incomplete Pass'].iloc[0], qb['Interceptions'].iloc[0], qb['Scrambles'].iloc[0], qb['Sacks'].iloc[0], qb['Touchdowns'].iloc[0], qb['First Down'].iloc[0],\n",
        "          qb['Negative/No Gain'].iloc[0], qb['Short Gain'].iloc[0], qb['Medium Gain'].iloc[0], qb['Long Gain'].iloc[0], qb['Throwaway'].iloc[0], qb['Drop'].iloc[0], qb['Uncatchable'].iloc[0],\n",
        "          qb['PBU'].iloc[0], qb['QB Int'].iloc[0], qb['Short Scramble'].iloc[0], qb['Medium Scramble'].iloc[0], qb['Long Scramble'].iloc[0], qb['QB Sack'].iloc[0], qb['Passing Touchdown'].iloc[0],\n",
        "          qb['Rushing Touchdown'].iloc[0], qb['First Down Pass'].iloc[0], qb['First Down Rush'].iloc[0], qb['First Down Penalty'].iloc[0]]\n",
        "fig = go.Figure(data=[go.Sankey(\n",
        "    node=dict(\n",
        "        pad=50,\n",
        "        thickness=20,\n",
        "        label=labels,\n",
        "        color = qb['team_color'].iloc[0]\n",
        "),\n",
        "    link=dict(\n",
        "        source=source,\n",
        "        target=target,\n",
        "        value=values,\n",
        "        color = qb['team_color2'].iloc[0],\n",
        "        line=dict(color='gainsboro', width=0.5)\n",
        "    )\n",
        ")])\n",
        "fig.update_layout(\n",
        "    width = 1000,\n",
        "    height = 600,\n",
        "    title_text=f\"What Happened When {qb['Passer'].iloc[0]} Dropped Back In Week {selected_week}?\",\n",
        "    title_font=dict(size=16, color='black'),\n",
        "    title_xanchor='center',\n",
        "    title_x=0.5,\n",
        "    title_y=0.9,\n",
        "    title_yanchor='top',\n",
        "    title_pad=dict(b=10),\n",
        "    margin=dict(l=20, r=20, t=20, b=20),\n",
        ")\n",
        "fig.add_annotation(\n",
        "    text=\"X:@MB_NFL, Data: FTN and nfl_data_py\",\n",
        "    xref=\"paper\", yref=\"paper\",\n",
        "    x=0.05, y=0.05,\n",
        "    showarrow=False,\n",
        "    font=dict(size=12, color=\"black\"),\n",
        "    bgcolor=\"white\",\n",
        "    bordercolor=\"black\",\n",
        "    borderwidth=1,\n",
        "    borderpad=4,\n",
        ")"
      ],
      "metadata": {
        "colab": {
          "base_uri": "https://localhost:8080/",
          "height": 617
        },
        "collapsed": true,
        "id": "a4-rMm-fwPUr",
        "outputId": "e261b64a-03ce-4fac-857f-b3f4968fe694"
      },
      "execution_count": null,
      "outputs": [
        {
          "output_type": "display_data",
          "data": {
            "text/html": [
              "<html>\n",
              "<head><meta charset=\"utf-8\" /></head>\n",
              "<body>\n",
              "    <div>            <script src=\"https://cdnjs.cloudflare.com/ajax/libs/mathjax/2.7.5/MathJax.js?config=TeX-AMS-MML_SVG\"></script><script type=\"text/javascript\">if (window.MathJax && window.MathJax.Hub && window.MathJax.Hub.Config) {window.MathJax.Hub.Config({SVG: {font: \"STIX-Web\"}});}</script>                <script type=\"text/javascript\">window.PlotlyConfig = {MathJaxConfig: 'local'};</script>\n",
              "        <script charset=\"utf-8\" src=\"https://cdn.plot.ly/plotly-2.35.2.min.js\"></script>                <div id=\"76e427e7-5f7e-4e9f-90f4-869abdb436eb\" class=\"plotly-graph-div\" style=\"height:600px; width:1000px;\"></div>            <script type=\"text/javascript\">                                    window.PLOTLYENV=window.PLOTLYENV || {};                                    if (document.getElementById(\"76e427e7-5f7e-4e9f-90f4-869abdb436eb\")) {                    Plotly.newPlot(                        \"76e427e7-5f7e-4e9f-90f4-869abdb436eb\",                        [{\"link\":{\"color\":\"#FFB612\",\"line\":{\"color\":\"gainsboro\",\"width\":0.5},\"source\":[0,0,0,0,0,0,0,1,1,1,1,2,2,2,2,3,4,4,4,5,6,6,7,7,7],\"target\":[1,2,3,4,5,6,7,8,9,10,11,12,13,14,15,16,17,18,19,20,21,22,23,24,25],\"value\":[22.0,9.0,1.0,4.0,3.0,1.0,11.0,1.0,15.0,4.0,2.0,0.0,3.0,5.0,0.0,1.0,3.0,1.0,0.0,3.0,1.0,0.0,10.0,1.0,0.0]},\"node\":{\"color\":\"#5A1414\",\"label\":[\"Dropbacks 39 (8 \\u002f 26)\",\"Complete Pass 56.4% (18 \\u002f 26)\",\"Incomplete Pass 23.1% (15 \\u002f 26)\",\"Interception 2.6% (9 \\u002f 26)\",\"Scramble 10.3% (5 \\u002f 26)\",\"Sack 7.7% (6 \\u002f 26)\",\"Touchdown 2.6% (21 \\u002f 26)\",\"First Down 28.2% (20 \\u002f 26)\",\"Negative\\u002fNo Gain 2.6% (15 \\u002f 26)\",\"(0-10] Yard Gain 38.5% (5 \\u002f 26)\",\"(10-20) Yard Gain 10.3% (23 \\u002f 26)\",\"20+ Yard Gain 5.1% (22 \\u002f 26)\",\"Throwaway 0.0% (22 \\u002f 26)\",\"Drop 7.7% (2 \\u002f 26)\",\"Uncatchable 12.8% (24 \\u002f 26)\",\"PBU 0.0% (16 \\u002f 26)\",\"QB Fault Int 2.6% (8 \\u002f 26)\",\"[0-5] Yard Gain 7.7% (1 \\u002f 26)\",\"(5-10) Gain 2.6% (13 \\u002f 26)\",\"10+ Yard Gain 0.0% (16 \\u002f 26)\",\"QB Fault Sack 7.7% (3 \\u002f 26)\",\"Passing Touchdown 2.6% (19 \\u002f 26)\",\"Rushing Touchdown 0.0% (15 \\u002f 26)\",\"First Down Pass 25.6% (21 \\u002f 26)\",\"First Down Scramble 2.6% (11 \\u002f 26)\",\"First Down Penalty 0.0% (16 \\u002f 26)\"],\"pad\":50,\"thickness\":20},\"type\":\"sankey\"}],                        {\"template\":{\"data\":{\"histogram2dcontour\":[{\"type\":\"histogram2dcontour\",\"colorbar\":{\"outlinewidth\":0,\"ticks\":\"\"},\"colorscale\":[[0.0,\"#0d0887\"],[0.1111111111111111,\"#46039f\"],[0.2222222222222222,\"#7201a8\"],[0.3333333333333333,\"#9c179e\"],[0.4444444444444444,\"#bd3786\"],[0.5555555555555556,\"#d8576b\"],[0.6666666666666666,\"#ed7953\"],[0.7777777777777778,\"#fb9f3a\"],[0.8888888888888888,\"#fdca26\"],[1.0,\"#f0f921\"]]}],\"choropleth\":[{\"type\":\"choropleth\",\"colorbar\":{\"outlinewidth\":0,\"ticks\":\"\"}}],\"histogram2d\":[{\"type\":\"histogram2d\",\"colorbar\":{\"outlinewidth\":0,\"ticks\":\"\"},\"colorscale\":[[0.0,\"#0d0887\"],[0.1111111111111111,\"#46039f\"],[0.2222222222222222,\"#7201a8\"],[0.3333333333333333,\"#9c179e\"],[0.4444444444444444,\"#bd3786\"],[0.5555555555555556,\"#d8576b\"],[0.6666666666666666,\"#ed7953\"],[0.7777777777777778,\"#fb9f3a\"],[0.8888888888888888,\"#fdca26\"],[1.0,\"#f0f921\"]]}],\"heatmap\":[{\"type\":\"heatmap\",\"colorbar\":{\"outlinewidth\":0,\"ticks\":\"\"},\"colorscale\":[[0.0,\"#0d0887\"],[0.1111111111111111,\"#46039f\"],[0.2222222222222222,\"#7201a8\"],[0.3333333333333333,\"#9c179e\"],[0.4444444444444444,\"#bd3786\"],[0.5555555555555556,\"#d8576b\"],[0.6666666666666666,\"#ed7953\"],[0.7777777777777778,\"#fb9f3a\"],[0.8888888888888888,\"#fdca26\"],[1.0,\"#f0f921\"]]}],\"heatmapgl\":[{\"type\":\"heatmapgl\",\"colorbar\":{\"outlinewidth\":0,\"ticks\":\"\"},\"colorscale\":[[0.0,\"#0d0887\"],[0.1111111111111111,\"#46039f\"],[0.2222222222222222,\"#7201a8\"],[0.3333333333333333,\"#9c179e\"],[0.4444444444444444,\"#bd3786\"],[0.5555555555555556,\"#d8576b\"],[0.6666666666666666,\"#ed7953\"],[0.7777777777777778,\"#fb9f3a\"],[0.8888888888888888,\"#fdca26\"],[1.0,\"#f0f921\"]]}],\"contourcarpet\":[{\"type\":\"contourcarpet\",\"colorbar\":{\"outlinewidth\":0,\"ticks\":\"\"}}],\"contour\":[{\"type\":\"contour\",\"colorbar\":{\"outlinewidth\":0,\"ticks\":\"\"},\"colorscale\":[[0.0,\"#0d0887\"],[0.1111111111111111,\"#46039f\"],[0.2222222222222222,\"#7201a8\"],[0.3333333333333333,\"#9c179e\"],[0.4444444444444444,\"#bd3786\"],[0.5555555555555556,\"#d8576b\"],[0.6666666666666666,\"#ed7953\"],[0.7777777777777778,\"#fb9f3a\"],[0.8888888888888888,\"#fdca26\"],[1.0,\"#f0f921\"]]}],\"surface\":[{\"type\":\"surface\",\"colorbar\":{\"outlinewidth\":0,\"ticks\":\"\"},\"colorscale\":[[0.0,\"#0d0887\"],[0.1111111111111111,\"#46039f\"],[0.2222222222222222,\"#7201a8\"],[0.3333333333333333,\"#9c179e\"],[0.4444444444444444,\"#bd3786\"],[0.5555555555555556,\"#d8576b\"],[0.6666666666666666,\"#ed7953\"],[0.7777777777777778,\"#fb9f3a\"],[0.8888888888888888,\"#fdca26\"],[1.0,\"#f0f921\"]]}],\"mesh3d\":[{\"type\":\"mesh3d\",\"colorbar\":{\"outlinewidth\":0,\"ticks\":\"\"}}],\"scatter\":[{\"fillpattern\":{\"fillmode\":\"overlay\",\"size\":10,\"solidity\":0.2},\"type\":\"scatter\"}],\"parcoords\":[{\"type\":\"parcoords\",\"line\":{\"colorbar\":{\"outlinewidth\":0,\"ticks\":\"\"}}}],\"scatterpolargl\":[{\"type\":\"scatterpolargl\",\"marker\":{\"colorbar\":{\"outlinewidth\":0,\"ticks\":\"\"}}}],\"bar\":[{\"error_x\":{\"color\":\"#2a3f5f\"},\"error_y\":{\"color\":\"#2a3f5f\"},\"marker\":{\"line\":{\"color\":\"#E5ECF6\",\"width\":0.5},\"pattern\":{\"fillmode\":\"overlay\",\"size\":10,\"solidity\":0.2}},\"type\":\"bar\"}],\"scattergeo\":[{\"type\":\"scattergeo\",\"marker\":{\"colorbar\":{\"outlinewidth\":0,\"ticks\":\"\"}}}],\"scatterpolar\":[{\"type\":\"scatterpolar\",\"marker\":{\"colorbar\":{\"outlinewidth\":0,\"ticks\":\"\"}}}],\"histogram\":[{\"marker\":{\"pattern\":{\"fillmode\":\"overlay\",\"size\":10,\"solidity\":0.2}},\"type\":\"histogram\"}],\"scattergl\":[{\"type\":\"scattergl\",\"marker\":{\"colorbar\":{\"outlinewidth\":0,\"ticks\":\"\"}}}],\"scatter3d\":[{\"type\":\"scatter3d\",\"line\":{\"colorbar\":{\"outlinewidth\":0,\"ticks\":\"\"}},\"marker\":{\"colorbar\":{\"outlinewidth\":0,\"ticks\":\"\"}}}],\"scattermapbox\":[{\"type\":\"scattermapbox\",\"marker\":{\"colorbar\":{\"outlinewidth\":0,\"ticks\":\"\"}}}],\"scatterternary\":[{\"type\":\"scatterternary\",\"marker\":{\"colorbar\":{\"outlinewidth\":0,\"ticks\":\"\"}}}],\"scattercarpet\":[{\"type\":\"scattercarpet\",\"marker\":{\"colorbar\":{\"outlinewidth\":0,\"ticks\":\"\"}}}],\"carpet\":[{\"aaxis\":{\"endlinecolor\":\"#2a3f5f\",\"gridcolor\":\"white\",\"linecolor\":\"white\",\"minorgridcolor\":\"white\",\"startlinecolor\":\"#2a3f5f\"},\"baxis\":{\"endlinecolor\":\"#2a3f5f\",\"gridcolor\":\"white\",\"linecolor\":\"white\",\"minorgridcolor\":\"white\",\"startlinecolor\":\"#2a3f5f\"},\"type\":\"carpet\"}],\"table\":[{\"cells\":{\"fill\":{\"color\":\"#EBF0F8\"},\"line\":{\"color\":\"white\"}},\"header\":{\"fill\":{\"color\":\"#C8D4E3\"},\"line\":{\"color\":\"white\"}},\"type\":\"table\"}],\"barpolar\":[{\"marker\":{\"line\":{\"color\":\"#E5ECF6\",\"width\":0.5},\"pattern\":{\"fillmode\":\"overlay\",\"size\":10,\"solidity\":0.2}},\"type\":\"barpolar\"}],\"pie\":[{\"automargin\":true,\"type\":\"pie\"}]},\"layout\":{\"autotypenumbers\":\"strict\",\"colorway\":[\"#636efa\",\"#EF553B\",\"#00cc96\",\"#ab63fa\",\"#FFA15A\",\"#19d3f3\",\"#FF6692\",\"#B6E880\",\"#FF97FF\",\"#FECB52\"],\"font\":{\"color\":\"#2a3f5f\"},\"hovermode\":\"closest\",\"hoverlabel\":{\"align\":\"left\"},\"paper_bgcolor\":\"white\",\"plot_bgcolor\":\"#E5ECF6\",\"polar\":{\"bgcolor\":\"#E5ECF6\",\"angularaxis\":{\"gridcolor\":\"white\",\"linecolor\":\"white\",\"ticks\":\"\"},\"radialaxis\":{\"gridcolor\":\"white\",\"linecolor\":\"white\",\"ticks\":\"\"}},\"ternary\":{\"bgcolor\":\"#E5ECF6\",\"aaxis\":{\"gridcolor\":\"white\",\"linecolor\":\"white\",\"ticks\":\"\"},\"baxis\":{\"gridcolor\":\"white\",\"linecolor\":\"white\",\"ticks\":\"\"},\"caxis\":{\"gridcolor\":\"white\",\"linecolor\":\"white\",\"ticks\":\"\"}},\"coloraxis\":{\"colorbar\":{\"outlinewidth\":0,\"ticks\":\"\"}},\"colorscale\":{\"sequential\":[[0.0,\"#0d0887\"],[0.1111111111111111,\"#46039f\"],[0.2222222222222222,\"#7201a8\"],[0.3333333333333333,\"#9c179e\"],[0.4444444444444444,\"#bd3786\"],[0.5555555555555556,\"#d8576b\"],[0.6666666666666666,\"#ed7953\"],[0.7777777777777778,\"#fb9f3a\"],[0.8888888888888888,\"#fdca26\"],[1.0,\"#f0f921\"]],\"sequentialminus\":[[0.0,\"#0d0887\"],[0.1111111111111111,\"#46039f\"],[0.2222222222222222,\"#7201a8\"],[0.3333333333333333,\"#9c179e\"],[0.4444444444444444,\"#bd3786\"],[0.5555555555555556,\"#d8576b\"],[0.6666666666666666,\"#ed7953\"],[0.7777777777777778,\"#fb9f3a\"],[0.8888888888888888,\"#fdca26\"],[1.0,\"#f0f921\"]],\"diverging\":[[0,\"#8e0152\"],[0.1,\"#c51b7d\"],[0.2,\"#de77ae\"],[0.3,\"#f1b6da\"],[0.4,\"#fde0ef\"],[0.5,\"#f7f7f7\"],[0.6,\"#e6f5d0\"],[0.7,\"#b8e186\"],[0.8,\"#7fbc41\"],[0.9,\"#4d9221\"],[1,\"#276419\"]]},\"xaxis\":{\"gridcolor\":\"white\",\"linecolor\":\"white\",\"ticks\":\"\",\"title\":{\"standoff\":15},\"zerolinecolor\":\"white\",\"automargin\":true,\"zerolinewidth\":2},\"yaxis\":{\"gridcolor\":\"white\",\"linecolor\":\"white\",\"ticks\":\"\",\"title\":{\"standoff\":15},\"zerolinecolor\":\"white\",\"automargin\":true,\"zerolinewidth\":2},\"scene\":{\"xaxis\":{\"backgroundcolor\":\"#E5ECF6\",\"gridcolor\":\"white\",\"linecolor\":\"white\",\"showbackground\":true,\"ticks\":\"\",\"zerolinecolor\":\"white\",\"gridwidth\":2},\"yaxis\":{\"backgroundcolor\":\"#E5ECF6\",\"gridcolor\":\"white\",\"linecolor\":\"white\",\"showbackground\":true,\"ticks\":\"\",\"zerolinecolor\":\"white\",\"gridwidth\":2},\"zaxis\":{\"backgroundcolor\":\"#E5ECF6\",\"gridcolor\":\"white\",\"linecolor\":\"white\",\"showbackground\":true,\"ticks\":\"\",\"zerolinecolor\":\"white\",\"gridwidth\":2}},\"shapedefaults\":{\"line\":{\"color\":\"#2a3f5f\"}},\"annotationdefaults\":{\"arrowcolor\":\"#2a3f5f\",\"arrowhead\":0,\"arrowwidth\":1},\"geo\":{\"bgcolor\":\"white\",\"landcolor\":\"#E5ECF6\",\"subunitcolor\":\"white\",\"showland\":true,\"showlakes\":true,\"lakecolor\":\"white\"},\"title\":{\"x\":0.05},\"mapbox\":{\"style\":\"light\"}}},\"title\":{\"font\":{\"size\":16,\"color\":\"black\"},\"pad\":{\"b\":10},\"text\":\"What Happened When Jayden Daniels Dropped Back In Week 11?\",\"xanchor\":\"center\",\"x\":0.5,\"y\":0.9,\"yanchor\":\"top\"},\"margin\":{\"l\":20,\"r\":20,\"t\":20,\"b\":20},\"width\":1000,\"height\":600,\"annotations\":[{\"bgcolor\":\"white\",\"bordercolor\":\"black\",\"borderpad\":4,\"borderwidth\":1,\"font\":{\"color\":\"black\",\"size\":12},\"showarrow\":false,\"text\":\"X:@MB_NFL, Data: FTN and nfl_data_py\",\"x\":0.05,\"xref\":\"paper\",\"y\":0.05,\"yref\":\"paper\"}]},                        {\"responsive\": true}                    ).then(function(){\n",
              "                            \n",
              "var gd = document.getElementById('76e427e7-5f7e-4e9f-90f4-869abdb436eb');\n",
              "var x = new MutationObserver(function (mutations, observer) {{\n",
              "        var display = window.getComputedStyle(gd).display;\n",
              "        if (!display || display === 'none') {{\n",
              "            console.log([gd, 'removed!']);\n",
              "            Plotly.purge(gd);\n",
              "            observer.disconnect();\n",
              "        }}\n",
              "}});\n",
              "\n",
              "// Listen for the removal of the full notebook cells\n",
              "var notebookContainer = gd.closest('#notebook-container');\n",
              "if (notebookContainer) {{\n",
              "    x.observe(notebookContainer, {childList: true});\n",
              "}}\n",
              "\n",
              "// Listen for the clearing of the current output cell\n",
              "var outputEl = gd.closest('.output');\n",
              "if (outputEl) {{\n",
              "    x.observe(outputEl, {childList: true});\n",
              "}}\n",
              "\n",
              "                        })                };                            </script>        </div>\n",
              "</body>\n",
              "</html>"
            ]
          },
          "metadata": {}
        }
      ]
    },
    {
      "cell_type": "markdown",
      "source": [
        "#Show Graph - Rerun with each QB"
      ],
      "metadata": {
        "id": "MYibd5_70uCZ"
      }
    },
    {
      "cell_type": "code",
      "source": [
        "fig.show()"
      ],
      "metadata": {
        "colab": {
          "base_uri": "https://localhost:8080/",
          "height": 617
        },
        "id": "bFBFtS_FxNu0",
        "outputId": "4b084618-d5e8-44b0-ac58-581ebe3dc60f"
      },
      "execution_count": null,
      "outputs": [
        {
          "output_type": "display_data",
          "data": {
            "text/html": [
              "<html>\n",
              "<head><meta charset=\"utf-8\" /></head>\n",
              "<body>\n",
              "    <div>            <script src=\"https://cdnjs.cloudflare.com/ajax/libs/mathjax/2.7.5/MathJax.js?config=TeX-AMS-MML_SVG\"></script><script type=\"text/javascript\">if (window.MathJax && window.MathJax.Hub && window.MathJax.Hub.Config) {window.MathJax.Hub.Config({SVG: {font: \"STIX-Web\"}});}</script>                <script type=\"text/javascript\">window.PlotlyConfig = {MathJaxConfig: 'local'};</script>\n",
              "        <script charset=\"utf-8\" src=\"https://cdn.plot.ly/plotly-2.35.2.min.js\"></script>                <div id=\"0b3cb903-497f-47b2-ba86-67b48f7c4d68\" class=\"plotly-graph-div\" style=\"height:600px; width:1000px;\"></div>            <script type=\"text/javascript\">                                    window.PLOTLYENV=window.PLOTLYENV || {};                                    if (document.getElementById(\"0b3cb903-497f-47b2-ba86-67b48f7c4d68\")) {                    Plotly.newPlot(                        \"0b3cb903-497f-47b2-ba86-67b48f7c4d68\",                        [{\"link\":{\"color\":\"#FFB612\",\"line\":{\"color\":\"gainsboro\",\"width\":0.5},\"source\":[0,0,0,0,0,0,0,1,1,1,1,2,2,2,2,3,4,4,4,5,6,6,7,7,7],\"target\":[1,2,3,4,5,6,7,8,9,10,11,12,13,14,15,16,17,18,19,20,21,22,23,24,25],\"value\":[22.0,9.0,1.0,4.0,3.0,1.0,11.0,1.0,15.0,4.0,2.0,0.0,3.0,5.0,0.0,1.0,3.0,1.0,0.0,3.0,1.0,0.0,10.0,1.0,0.0]},\"node\":{\"color\":\"#5A1414\",\"label\":[\"Dropbacks 39 (8 \\u002f 26)\",\"Complete Pass 56.4% (18 \\u002f 26)\",\"Incomplete Pass 23.1% (15 \\u002f 26)\",\"Interception 2.6% (9 \\u002f 26)\",\"Scramble 10.3% (5 \\u002f 26)\",\"Sack 7.7% (6 \\u002f 26)\",\"Touchdown 2.6% (21 \\u002f 26)\",\"First Down 28.2% (20 \\u002f 26)\",\"Negative\\u002fNo Gain 2.6% (15 \\u002f 26)\",\"(0-10] Yard Gain 38.5% (5 \\u002f 26)\",\"(10-20) Yard Gain 10.3% (23 \\u002f 26)\",\"20+ Yard Gain 5.1% (22 \\u002f 26)\",\"Throwaway 0.0% (22 \\u002f 26)\",\"Drop 7.7% (2 \\u002f 26)\",\"Uncatchable 12.8% (24 \\u002f 26)\",\"PBU 0.0% (16 \\u002f 26)\",\"QB Fault Int 2.6% (8 \\u002f 26)\",\"[0-5] Yard Gain 7.7% (1 \\u002f 26)\",\"(5-10) Gain 2.6% (13 \\u002f 26)\",\"10+ Yard Gain 0.0% (16 \\u002f 26)\",\"QB Fault Sack 7.7% (3 \\u002f 26)\",\"Passing Touchdown 2.6% (19 \\u002f 26)\",\"Rushing Touchdown 0.0% (15 \\u002f 26)\",\"First Down Pass 25.6% (21 \\u002f 26)\",\"First Down Scramble 2.6% (11 \\u002f 26)\",\"First Down Penalty 0.0% (16 \\u002f 26)\"],\"pad\":50,\"thickness\":20},\"type\":\"sankey\"}],                        {\"template\":{\"data\":{\"histogram2dcontour\":[{\"type\":\"histogram2dcontour\",\"colorbar\":{\"outlinewidth\":0,\"ticks\":\"\"},\"colorscale\":[[0.0,\"#0d0887\"],[0.1111111111111111,\"#46039f\"],[0.2222222222222222,\"#7201a8\"],[0.3333333333333333,\"#9c179e\"],[0.4444444444444444,\"#bd3786\"],[0.5555555555555556,\"#d8576b\"],[0.6666666666666666,\"#ed7953\"],[0.7777777777777778,\"#fb9f3a\"],[0.8888888888888888,\"#fdca26\"],[1.0,\"#f0f921\"]]}],\"choropleth\":[{\"type\":\"choropleth\",\"colorbar\":{\"outlinewidth\":0,\"ticks\":\"\"}}],\"histogram2d\":[{\"type\":\"histogram2d\",\"colorbar\":{\"outlinewidth\":0,\"ticks\":\"\"},\"colorscale\":[[0.0,\"#0d0887\"],[0.1111111111111111,\"#46039f\"],[0.2222222222222222,\"#7201a8\"],[0.3333333333333333,\"#9c179e\"],[0.4444444444444444,\"#bd3786\"],[0.5555555555555556,\"#d8576b\"],[0.6666666666666666,\"#ed7953\"],[0.7777777777777778,\"#fb9f3a\"],[0.8888888888888888,\"#fdca26\"],[1.0,\"#f0f921\"]]}],\"heatmap\":[{\"type\":\"heatmap\",\"colorbar\":{\"outlinewidth\":0,\"ticks\":\"\"},\"colorscale\":[[0.0,\"#0d0887\"],[0.1111111111111111,\"#46039f\"],[0.2222222222222222,\"#7201a8\"],[0.3333333333333333,\"#9c179e\"],[0.4444444444444444,\"#bd3786\"],[0.5555555555555556,\"#d8576b\"],[0.6666666666666666,\"#ed7953\"],[0.7777777777777778,\"#fb9f3a\"],[0.8888888888888888,\"#fdca26\"],[1.0,\"#f0f921\"]]}],\"heatmapgl\":[{\"type\":\"heatmapgl\",\"colorbar\":{\"outlinewidth\":0,\"ticks\":\"\"},\"colorscale\":[[0.0,\"#0d0887\"],[0.1111111111111111,\"#46039f\"],[0.2222222222222222,\"#7201a8\"],[0.3333333333333333,\"#9c179e\"],[0.4444444444444444,\"#bd3786\"],[0.5555555555555556,\"#d8576b\"],[0.6666666666666666,\"#ed7953\"],[0.7777777777777778,\"#fb9f3a\"],[0.8888888888888888,\"#fdca26\"],[1.0,\"#f0f921\"]]}],\"contourcarpet\":[{\"type\":\"contourcarpet\",\"colorbar\":{\"outlinewidth\":0,\"ticks\":\"\"}}],\"contour\":[{\"type\":\"contour\",\"colorbar\":{\"outlinewidth\":0,\"ticks\":\"\"},\"colorscale\":[[0.0,\"#0d0887\"],[0.1111111111111111,\"#46039f\"],[0.2222222222222222,\"#7201a8\"],[0.3333333333333333,\"#9c179e\"],[0.4444444444444444,\"#bd3786\"],[0.5555555555555556,\"#d8576b\"],[0.6666666666666666,\"#ed7953\"],[0.7777777777777778,\"#fb9f3a\"],[0.8888888888888888,\"#fdca26\"],[1.0,\"#f0f921\"]]}],\"surface\":[{\"type\":\"surface\",\"colorbar\":{\"outlinewidth\":0,\"ticks\":\"\"},\"colorscale\":[[0.0,\"#0d0887\"],[0.1111111111111111,\"#46039f\"],[0.2222222222222222,\"#7201a8\"],[0.3333333333333333,\"#9c179e\"],[0.4444444444444444,\"#bd3786\"],[0.5555555555555556,\"#d8576b\"],[0.6666666666666666,\"#ed7953\"],[0.7777777777777778,\"#fb9f3a\"],[0.8888888888888888,\"#fdca26\"],[1.0,\"#f0f921\"]]}],\"mesh3d\":[{\"type\":\"mesh3d\",\"colorbar\":{\"outlinewidth\":0,\"ticks\":\"\"}}],\"scatter\":[{\"fillpattern\":{\"fillmode\":\"overlay\",\"size\":10,\"solidity\":0.2},\"type\":\"scatter\"}],\"parcoords\":[{\"type\":\"parcoords\",\"line\":{\"colorbar\":{\"outlinewidth\":0,\"ticks\":\"\"}}}],\"scatterpolargl\":[{\"type\":\"scatterpolargl\",\"marker\":{\"colorbar\":{\"outlinewidth\":0,\"ticks\":\"\"}}}],\"bar\":[{\"error_x\":{\"color\":\"#2a3f5f\"},\"error_y\":{\"color\":\"#2a3f5f\"},\"marker\":{\"line\":{\"color\":\"#E5ECF6\",\"width\":0.5},\"pattern\":{\"fillmode\":\"overlay\",\"size\":10,\"solidity\":0.2}},\"type\":\"bar\"}],\"scattergeo\":[{\"type\":\"scattergeo\",\"marker\":{\"colorbar\":{\"outlinewidth\":0,\"ticks\":\"\"}}}],\"scatterpolar\":[{\"type\":\"scatterpolar\",\"marker\":{\"colorbar\":{\"outlinewidth\":0,\"ticks\":\"\"}}}],\"histogram\":[{\"marker\":{\"pattern\":{\"fillmode\":\"overlay\",\"size\":10,\"solidity\":0.2}},\"type\":\"histogram\"}],\"scattergl\":[{\"type\":\"scattergl\",\"marker\":{\"colorbar\":{\"outlinewidth\":0,\"ticks\":\"\"}}}],\"scatter3d\":[{\"type\":\"scatter3d\",\"line\":{\"colorbar\":{\"outlinewidth\":0,\"ticks\":\"\"}},\"marker\":{\"colorbar\":{\"outlinewidth\":0,\"ticks\":\"\"}}}],\"scattermapbox\":[{\"type\":\"scattermapbox\",\"marker\":{\"colorbar\":{\"outlinewidth\":0,\"ticks\":\"\"}}}],\"scatterternary\":[{\"type\":\"scatterternary\",\"marker\":{\"colorbar\":{\"outlinewidth\":0,\"ticks\":\"\"}}}],\"scattercarpet\":[{\"type\":\"scattercarpet\",\"marker\":{\"colorbar\":{\"outlinewidth\":0,\"ticks\":\"\"}}}],\"carpet\":[{\"aaxis\":{\"endlinecolor\":\"#2a3f5f\",\"gridcolor\":\"white\",\"linecolor\":\"white\",\"minorgridcolor\":\"white\",\"startlinecolor\":\"#2a3f5f\"},\"baxis\":{\"endlinecolor\":\"#2a3f5f\",\"gridcolor\":\"white\",\"linecolor\":\"white\",\"minorgridcolor\":\"white\",\"startlinecolor\":\"#2a3f5f\"},\"type\":\"carpet\"}],\"table\":[{\"cells\":{\"fill\":{\"color\":\"#EBF0F8\"},\"line\":{\"color\":\"white\"}},\"header\":{\"fill\":{\"color\":\"#C8D4E3\"},\"line\":{\"color\":\"white\"}},\"type\":\"table\"}],\"barpolar\":[{\"marker\":{\"line\":{\"color\":\"#E5ECF6\",\"width\":0.5},\"pattern\":{\"fillmode\":\"overlay\",\"size\":10,\"solidity\":0.2}},\"type\":\"barpolar\"}],\"pie\":[{\"automargin\":true,\"type\":\"pie\"}]},\"layout\":{\"autotypenumbers\":\"strict\",\"colorway\":[\"#636efa\",\"#EF553B\",\"#00cc96\",\"#ab63fa\",\"#FFA15A\",\"#19d3f3\",\"#FF6692\",\"#B6E880\",\"#FF97FF\",\"#FECB52\"],\"font\":{\"color\":\"#2a3f5f\"},\"hovermode\":\"closest\",\"hoverlabel\":{\"align\":\"left\"},\"paper_bgcolor\":\"white\",\"plot_bgcolor\":\"#E5ECF6\",\"polar\":{\"bgcolor\":\"#E5ECF6\",\"angularaxis\":{\"gridcolor\":\"white\",\"linecolor\":\"white\",\"ticks\":\"\"},\"radialaxis\":{\"gridcolor\":\"white\",\"linecolor\":\"white\",\"ticks\":\"\"}},\"ternary\":{\"bgcolor\":\"#E5ECF6\",\"aaxis\":{\"gridcolor\":\"white\",\"linecolor\":\"white\",\"ticks\":\"\"},\"baxis\":{\"gridcolor\":\"white\",\"linecolor\":\"white\",\"ticks\":\"\"},\"caxis\":{\"gridcolor\":\"white\",\"linecolor\":\"white\",\"ticks\":\"\"}},\"coloraxis\":{\"colorbar\":{\"outlinewidth\":0,\"ticks\":\"\"}},\"colorscale\":{\"sequential\":[[0.0,\"#0d0887\"],[0.1111111111111111,\"#46039f\"],[0.2222222222222222,\"#7201a8\"],[0.3333333333333333,\"#9c179e\"],[0.4444444444444444,\"#bd3786\"],[0.5555555555555556,\"#d8576b\"],[0.6666666666666666,\"#ed7953\"],[0.7777777777777778,\"#fb9f3a\"],[0.8888888888888888,\"#fdca26\"],[1.0,\"#f0f921\"]],\"sequentialminus\":[[0.0,\"#0d0887\"],[0.1111111111111111,\"#46039f\"],[0.2222222222222222,\"#7201a8\"],[0.3333333333333333,\"#9c179e\"],[0.4444444444444444,\"#bd3786\"],[0.5555555555555556,\"#d8576b\"],[0.6666666666666666,\"#ed7953\"],[0.7777777777777778,\"#fb9f3a\"],[0.8888888888888888,\"#fdca26\"],[1.0,\"#f0f921\"]],\"diverging\":[[0,\"#8e0152\"],[0.1,\"#c51b7d\"],[0.2,\"#de77ae\"],[0.3,\"#f1b6da\"],[0.4,\"#fde0ef\"],[0.5,\"#f7f7f7\"],[0.6,\"#e6f5d0\"],[0.7,\"#b8e186\"],[0.8,\"#7fbc41\"],[0.9,\"#4d9221\"],[1,\"#276419\"]]},\"xaxis\":{\"gridcolor\":\"white\",\"linecolor\":\"white\",\"ticks\":\"\",\"title\":{\"standoff\":15},\"zerolinecolor\":\"white\",\"automargin\":true,\"zerolinewidth\":2},\"yaxis\":{\"gridcolor\":\"white\",\"linecolor\":\"white\",\"ticks\":\"\",\"title\":{\"standoff\":15},\"zerolinecolor\":\"white\",\"automargin\":true,\"zerolinewidth\":2},\"scene\":{\"xaxis\":{\"backgroundcolor\":\"#E5ECF6\",\"gridcolor\":\"white\",\"linecolor\":\"white\",\"showbackground\":true,\"ticks\":\"\",\"zerolinecolor\":\"white\",\"gridwidth\":2},\"yaxis\":{\"backgroundcolor\":\"#E5ECF6\",\"gridcolor\":\"white\",\"linecolor\":\"white\",\"showbackground\":true,\"ticks\":\"\",\"zerolinecolor\":\"white\",\"gridwidth\":2},\"zaxis\":{\"backgroundcolor\":\"#E5ECF6\",\"gridcolor\":\"white\",\"linecolor\":\"white\",\"showbackground\":true,\"ticks\":\"\",\"zerolinecolor\":\"white\",\"gridwidth\":2}},\"shapedefaults\":{\"line\":{\"color\":\"#2a3f5f\"}},\"annotationdefaults\":{\"arrowcolor\":\"#2a3f5f\",\"arrowhead\":0,\"arrowwidth\":1},\"geo\":{\"bgcolor\":\"white\",\"landcolor\":\"#E5ECF6\",\"subunitcolor\":\"white\",\"showland\":true,\"showlakes\":true,\"lakecolor\":\"white\"},\"title\":{\"x\":0.05},\"mapbox\":{\"style\":\"light\"}}},\"title\":{\"font\":{\"size\":16,\"color\":\"black\"},\"pad\":{\"b\":10},\"text\":\"What Happened When Jayden Daniels Dropped Back In Week 11?\",\"xanchor\":\"center\",\"x\":0.5,\"y\":0.9,\"yanchor\":\"top\"},\"margin\":{\"l\":20,\"r\":20,\"t\":20,\"b\":20},\"width\":1000,\"height\":600,\"annotations\":[{\"bgcolor\":\"white\",\"bordercolor\":\"black\",\"borderpad\":4,\"borderwidth\":1,\"font\":{\"color\":\"black\",\"size\":12},\"showarrow\":false,\"text\":\"X:@MB_NFL, Data: FTN and nfl_data_py\",\"x\":0.05,\"xref\":\"paper\",\"y\":0.05,\"yref\":\"paper\"}]},                        {\"responsive\": true}                    ).then(function(){\n",
              "                            \n",
              "var gd = document.getElementById('0b3cb903-497f-47b2-ba86-67b48f7c4d68');\n",
              "var x = new MutationObserver(function (mutations, observer) {{\n",
              "        var display = window.getComputedStyle(gd).display;\n",
              "        if (!display || display === 'none') {{\n",
              "            console.log([gd, 'removed!']);\n",
              "            Plotly.purge(gd);\n",
              "            observer.disconnect();\n",
              "        }}\n",
              "}});\n",
              "\n",
              "// Listen for the removal of the full notebook cells\n",
              "var notebookContainer = gd.closest('#notebook-container');\n",
              "if (notebookContainer) {{\n",
              "    x.observe(notebookContainer, {childList: true});\n",
              "}}\n",
              "\n",
              "// Listen for the clearing of the current output cell\n",
              "var outputEl = gd.closest('.output');\n",
              "if (outputEl) {{\n",
              "    x.observe(outputEl, {childList: true});\n",
              "}}\n",
              "\n",
              "                        })                };                            </script>        </div>\n",
              "</body>\n",
              "</html>"
            ]
          },
          "metadata": {}
        }
      ]
    },
    {
      "cell_type": "code",
      "source": [],
      "metadata": {
        "id": "FXl_Q07xkFif"
      },
      "execution_count": null,
      "outputs": []
    }
  ]
}